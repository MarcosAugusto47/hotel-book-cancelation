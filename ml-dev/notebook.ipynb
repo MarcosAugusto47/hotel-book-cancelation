{
 "cells": [
  {
   "cell_type": "code",
   "execution_count": 1,
   "metadata": {},
   "outputs": [],
   "source": [
    "import pandas as pd\n",
    "import numpy as np\n",
    "import seaborn as sns\n",
    "\n",
    "from sklearn.model_selection import train_test_split\n",
    "from sklearn.preprocessing import StandardScaler\n",
    "from sklearn.model_selection import cross_val_score, RepeatedKFold\n",
    "from sklearn.metrics import accuracy_score, classification_report\n",
    "from sklearn.pipeline import make_pipeline\n",
    "from sklearn.svm import LinearSVC, SVC\n",
    "from sklearn.tree import DecisionTreeClassifier\n",
    "from sklearn.ensemble import AdaBoostClassifier\n",
    "\n",
    "from keras.models import Sequential, load_model\n",
    "from keras.layers import Dense\n",
    "from keras.wrappers.scikit_learn import KerasClassifier\n",
    "\n",
    "import pickle\n",
    "\n",
    "pd.set_option('display.max_columns', None)\n",
    "pd.set_option('display.max_rows', None)"
   ]
  },
  {
   "cell_type": "code",
   "execution_count": 2,
   "metadata": {},
   "outputs": [],
   "source": [
    "def model_evaluate(model, X_test, y_test):\n",
    "    y_pred = model.predict(X_test)\n",
    "    print(classification_report(y_test, y_pred))"
   ]
  },
  {
   "cell_type": "code",
   "execution_count": 3,
   "metadata": {},
   "outputs": [],
   "source": [
    "hotel = pd.read_csv(\"hotel-data.csv\")"
   ]
  },
  {
   "cell_type": "code",
   "execution_count": 4,
   "metadata": {},
   "outputs": [
    {
     "name": "stdout",
     "output_type": "stream",
     "text": [
      "<class 'pandas.core.frame.DataFrame'>\n",
      "RangeIndex: 119390 entries, 0 to 119389\n",
      "Data columns (total 32 columns):\n",
      " #   Column                          Non-Null Count   Dtype  \n",
      "---  ------                          --------------   -----  \n",
      " 0   hotel                           119390 non-null  object \n",
      " 1   is_canceled                     119390 non-null  int64  \n",
      " 2   lead_time                       119390 non-null  int64  \n",
      " 3   arrival_date_year               119390 non-null  int64  \n",
      " 4   arrival_date_month              119390 non-null  object \n",
      " 5   arrival_date_week_number        119390 non-null  int64  \n",
      " 6   arrival_date_day_of_month       119390 non-null  int64  \n",
      " 7   stays_in_weekend_nights         119390 non-null  int64  \n",
      " 8   stays_in_week_nights            119390 non-null  int64  \n",
      " 9   adults                          119390 non-null  int64  \n",
      " 10  children                        119386 non-null  float64\n",
      " 11  babies                          119390 non-null  int64  \n",
      " 12  meal                            119390 non-null  object \n",
      " 13  country                         118902 non-null  object \n",
      " 14  market_segment                  119390 non-null  object \n",
      " 15  distribution_channel            119390 non-null  object \n",
      " 16  is_repeated_guest               119390 non-null  int64  \n",
      " 17  previous_cancellations          119390 non-null  int64  \n",
      " 18  previous_bookings_not_canceled  119390 non-null  int64  \n",
      " 19  reserved_room_type              119390 non-null  object \n",
      " 20  assigned_room_type              119390 non-null  object \n",
      " 21  booking_changes                 119390 non-null  int64  \n",
      " 22  deposit_type                    119390 non-null  object \n",
      " 23  agent                           103050 non-null  float64\n",
      " 24  company                         6797 non-null    float64\n",
      " 25  days_in_waiting_list            119390 non-null  int64  \n",
      " 26  customer_type                   119390 non-null  object \n",
      " 27  adr                             119390 non-null  float64\n",
      " 28  required_car_parking_spaces     119390 non-null  int64  \n",
      " 29  total_of_special_requests       119390 non-null  int64  \n",
      " 30  reservation_status              119390 non-null  object \n",
      " 31  reservation_status_date         119390 non-null  object \n",
      "dtypes: float64(4), int64(16), object(12)\n",
      "memory usage: 29.1+ MB\n"
     ]
    }
   ],
   "source": [
    "hotel.info()"
   ]
  },
  {
   "cell_type": "code",
   "execution_count": 5,
   "metadata": {},
   "outputs": [
    {
     "data": {
      "text/plain": [
       "Check-Out    75166\n",
       "Canceled     43017\n",
       "No-Show       1207\n",
       "Name: reservation_status, dtype: int64"
      ]
     },
     "execution_count": 5,
     "metadata": {},
     "output_type": "execute_result"
    }
   ],
   "source": [
    "hotel.reservation_status.value_counts(dropna=False)"
   ]
  },
  {
   "cell_type": "code",
   "execution_count": 6,
   "metadata": {},
   "outputs": [
    {
     "data": {
      "text/plain": [
       "0    75166\n",
       "1    44224\n",
       "Name: is_canceled, dtype: int64"
      ]
     },
     "execution_count": 6,
     "metadata": {},
     "output_type": "execute_result"
    }
   ],
   "source": [
    "hotel.is_canceled.value_counts(dropna=False)"
   ]
  },
  {
   "cell_type": "code",
   "execution_count": 7,
   "metadata": {},
   "outputs": [
    {
     "data": {
      "text/plain": [
       "City Hotel      79330\n",
       "Resort Hotel    40060\n",
       "Name: hotel, dtype: int64"
      ]
     },
     "execution_count": 7,
     "metadata": {},
     "output_type": "execute_result"
    }
   ],
   "source": [
    "hotel.hotel.value_counts(dropna=False)"
   ]
  },
  {
   "cell_type": "code",
   "execution_count": 8,
   "metadata": {},
   "outputs": [
    {
     "data": {
      "text/plain": [
       "August       13877\n",
       "July         12661\n",
       "May          11791\n",
       "October      11160\n",
       "April        11089\n",
       "June         10939\n",
       "September    10508\n",
       "March         9794\n",
       "February      8068\n",
       "November      6794\n",
       "December      6780\n",
       "January       5929\n",
       "Name: arrival_date_month, dtype: int64"
      ]
     },
     "execution_count": 8,
     "metadata": {},
     "output_type": "execute_result"
    }
   ],
   "source": [
    "hotel.arrival_date_month.value_counts(dropna=False)"
   ]
  },
  {
   "cell_type": "code",
   "execution_count": 9,
   "metadata": {},
   "outputs": [
    {
     "data": {
      "text/html": [
       "<div>\n",
       "<style scoped>\n",
       "    .dataframe tbody tr th:only-of-type {\n",
       "        vertical-align: middle;\n",
       "    }\n",
       "\n",
       "    .dataframe tbody tr th {\n",
       "        vertical-align: top;\n",
       "    }\n",
       "\n",
       "    .dataframe thead th {\n",
       "        text-align: right;\n",
       "    }\n",
       "</style>\n",
       "<table border=\"1\" class=\"dataframe\">\n",
       "  <thead>\n",
       "    <tr style=\"text-align: right;\">\n",
       "      <th></th>\n",
       "      <th>hotel</th>\n",
       "      <th>is_canceled</th>\n",
       "      <th>lead_time</th>\n",
       "      <th>arrival_date_year</th>\n",
       "      <th>arrival_date_month</th>\n",
       "      <th>arrival_date_week_number</th>\n",
       "      <th>arrival_date_day_of_month</th>\n",
       "      <th>stays_in_weekend_nights</th>\n",
       "      <th>stays_in_week_nights</th>\n",
       "      <th>adults</th>\n",
       "      <th>children</th>\n",
       "      <th>babies</th>\n",
       "      <th>meal</th>\n",
       "      <th>country</th>\n",
       "      <th>market_segment</th>\n",
       "      <th>distribution_channel</th>\n",
       "      <th>is_repeated_guest</th>\n",
       "      <th>previous_cancellations</th>\n",
       "      <th>previous_bookings_not_canceled</th>\n",
       "      <th>reserved_room_type</th>\n",
       "      <th>assigned_room_type</th>\n",
       "      <th>booking_changes</th>\n",
       "      <th>deposit_type</th>\n",
       "      <th>agent</th>\n",
       "      <th>company</th>\n",
       "      <th>days_in_waiting_list</th>\n",
       "      <th>customer_type</th>\n",
       "      <th>adr</th>\n",
       "      <th>required_car_parking_spaces</th>\n",
       "      <th>total_of_special_requests</th>\n",
       "      <th>reservation_status</th>\n",
       "      <th>reservation_status_date</th>\n",
       "    </tr>\n",
       "  </thead>\n",
       "  <tbody>\n",
       "    <tr>\n",
       "      <th>0</th>\n",
       "      <td>Resort Hotel</td>\n",
       "      <td>0</td>\n",
       "      <td>342</td>\n",
       "      <td>2015</td>\n",
       "      <td>July</td>\n",
       "      <td>27</td>\n",
       "      <td>1</td>\n",
       "      <td>0</td>\n",
       "      <td>0</td>\n",
       "      <td>2</td>\n",
       "      <td>0.0</td>\n",
       "      <td>0</td>\n",
       "      <td>BB</td>\n",
       "      <td>PRT</td>\n",
       "      <td>Direct</td>\n",
       "      <td>Direct</td>\n",
       "      <td>0</td>\n",
       "      <td>0</td>\n",
       "      <td>0</td>\n",
       "      <td>C</td>\n",
       "      <td>C</td>\n",
       "      <td>3</td>\n",
       "      <td>No Deposit</td>\n",
       "      <td>NaN</td>\n",
       "      <td>NaN</td>\n",
       "      <td>0</td>\n",
       "      <td>Transient</td>\n",
       "      <td>0.0</td>\n",
       "      <td>0</td>\n",
       "      <td>0</td>\n",
       "      <td>Check-Out</td>\n",
       "      <td>2015-07-01</td>\n",
       "    </tr>\n",
       "    <tr>\n",
       "      <th>1</th>\n",
       "      <td>Resort Hotel</td>\n",
       "      <td>0</td>\n",
       "      <td>737</td>\n",
       "      <td>2015</td>\n",
       "      <td>July</td>\n",
       "      <td>27</td>\n",
       "      <td>1</td>\n",
       "      <td>0</td>\n",
       "      <td>0</td>\n",
       "      <td>2</td>\n",
       "      <td>0.0</td>\n",
       "      <td>0</td>\n",
       "      <td>BB</td>\n",
       "      <td>PRT</td>\n",
       "      <td>Direct</td>\n",
       "      <td>Direct</td>\n",
       "      <td>0</td>\n",
       "      <td>0</td>\n",
       "      <td>0</td>\n",
       "      <td>C</td>\n",
       "      <td>C</td>\n",
       "      <td>4</td>\n",
       "      <td>No Deposit</td>\n",
       "      <td>NaN</td>\n",
       "      <td>NaN</td>\n",
       "      <td>0</td>\n",
       "      <td>Transient</td>\n",
       "      <td>0.0</td>\n",
       "      <td>0</td>\n",
       "      <td>0</td>\n",
       "      <td>Check-Out</td>\n",
       "      <td>2015-07-01</td>\n",
       "    </tr>\n",
       "    <tr>\n",
       "      <th>2</th>\n",
       "      <td>Resort Hotel</td>\n",
       "      <td>0</td>\n",
       "      <td>7</td>\n",
       "      <td>2015</td>\n",
       "      <td>July</td>\n",
       "      <td>27</td>\n",
       "      <td>1</td>\n",
       "      <td>0</td>\n",
       "      <td>1</td>\n",
       "      <td>1</td>\n",
       "      <td>0.0</td>\n",
       "      <td>0</td>\n",
       "      <td>BB</td>\n",
       "      <td>GBR</td>\n",
       "      <td>Direct</td>\n",
       "      <td>Direct</td>\n",
       "      <td>0</td>\n",
       "      <td>0</td>\n",
       "      <td>0</td>\n",
       "      <td>A</td>\n",
       "      <td>C</td>\n",
       "      <td>0</td>\n",
       "      <td>No Deposit</td>\n",
       "      <td>NaN</td>\n",
       "      <td>NaN</td>\n",
       "      <td>0</td>\n",
       "      <td>Transient</td>\n",
       "      <td>75.0</td>\n",
       "      <td>0</td>\n",
       "      <td>0</td>\n",
       "      <td>Check-Out</td>\n",
       "      <td>2015-07-02</td>\n",
       "    </tr>\n",
       "    <tr>\n",
       "      <th>3</th>\n",
       "      <td>Resort Hotel</td>\n",
       "      <td>0</td>\n",
       "      <td>13</td>\n",
       "      <td>2015</td>\n",
       "      <td>July</td>\n",
       "      <td>27</td>\n",
       "      <td>1</td>\n",
       "      <td>0</td>\n",
       "      <td>1</td>\n",
       "      <td>1</td>\n",
       "      <td>0.0</td>\n",
       "      <td>0</td>\n",
       "      <td>BB</td>\n",
       "      <td>GBR</td>\n",
       "      <td>Corporate</td>\n",
       "      <td>Corporate</td>\n",
       "      <td>0</td>\n",
       "      <td>0</td>\n",
       "      <td>0</td>\n",
       "      <td>A</td>\n",
       "      <td>A</td>\n",
       "      <td>0</td>\n",
       "      <td>No Deposit</td>\n",
       "      <td>304.0</td>\n",
       "      <td>NaN</td>\n",
       "      <td>0</td>\n",
       "      <td>Transient</td>\n",
       "      <td>75.0</td>\n",
       "      <td>0</td>\n",
       "      <td>0</td>\n",
       "      <td>Check-Out</td>\n",
       "      <td>2015-07-02</td>\n",
       "    </tr>\n",
       "    <tr>\n",
       "      <th>4</th>\n",
       "      <td>Resort Hotel</td>\n",
       "      <td>0</td>\n",
       "      <td>14</td>\n",
       "      <td>2015</td>\n",
       "      <td>July</td>\n",
       "      <td>27</td>\n",
       "      <td>1</td>\n",
       "      <td>0</td>\n",
       "      <td>2</td>\n",
       "      <td>2</td>\n",
       "      <td>0.0</td>\n",
       "      <td>0</td>\n",
       "      <td>BB</td>\n",
       "      <td>GBR</td>\n",
       "      <td>Online TA</td>\n",
       "      <td>TA/TO</td>\n",
       "      <td>0</td>\n",
       "      <td>0</td>\n",
       "      <td>0</td>\n",
       "      <td>A</td>\n",
       "      <td>A</td>\n",
       "      <td>0</td>\n",
       "      <td>No Deposit</td>\n",
       "      <td>240.0</td>\n",
       "      <td>NaN</td>\n",
       "      <td>0</td>\n",
       "      <td>Transient</td>\n",
       "      <td>98.0</td>\n",
       "      <td>0</td>\n",
       "      <td>1</td>\n",
       "      <td>Check-Out</td>\n",
       "      <td>2015-07-03</td>\n",
       "    </tr>\n",
       "  </tbody>\n",
       "</table>\n",
       "</div>"
      ],
      "text/plain": [
       "          hotel  is_canceled  lead_time  arrival_date_year arrival_date_month  \\\n",
       "0  Resort Hotel            0        342               2015               July   \n",
       "1  Resort Hotel            0        737               2015               July   \n",
       "2  Resort Hotel            0          7               2015               July   \n",
       "3  Resort Hotel            0         13               2015               July   \n",
       "4  Resort Hotel            0         14               2015               July   \n",
       "\n",
       "   arrival_date_week_number  arrival_date_day_of_month  \\\n",
       "0                        27                          1   \n",
       "1                        27                          1   \n",
       "2                        27                          1   \n",
       "3                        27                          1   \n",
       "4                        27                          1   \n",
       "\n",
       "   stays_in_weekend_nights  stays_in_week_nights  adults  children  babies  \\\n",
       "0                        0                     0       2       0.0       0   \n",
       "1                        0                     0       2       0.0       0   \n",
       "2                        0                     1       1       0.0       0   \n",
       "3                        0                     1       1       0.0       0   \n",
       "4                        0                     2       2       0.0       0   \n",
       "\n",
       "  meal country market_segment distribution_channel  is_repeated_guest  \\\n",
       "0   BB     PRT         Direct               Direct                  0   \n",
       "1   BB     PRT         Direct               Direct                  0   \n",
       "2   BB     GBR         Direct               Direct                  0   \n",
       "3   BB     GBR      Corporate            Corporate                  0   \n",
       "4   BB     GBR      Online TA                TA/TO                  0   \n",
       "\n",
       "   previous_cancellations  previous_bookings_not_canceled reserved_room_type  \\\n",
       "0                       0                               0                  C   \n",
       "1                       0                               0                  C   \n",
       "2                       0                               0                  A   \n",
       "3                       0                               0                  A   \n",
       "4                       0                               0                  A   \n",
       "\n",
       "  assigned_room_type  booking_changes deposit_type  agent  company  \\\n",
       "0                  C                3   No Deposit    NaN      NaN   \n",
       "1                  C                4   No Deposit    NaN      NaN   \n",
       "2                  C                0   No Deposit    NaN      NaN   \n",
       "3                  A                0   No Deposit  304.0      NaN   \n",
       "4                  A                0   No Deposit  240.0      NaN   \n",
       "\n",
       "   days_in_waiting_list customer_type   adr  required_car_parking_spaces  \\\n",
       "0                     0     Transient   0.0                            0   \n",
       "1                     0     Transient   0.0                            0   \n",
       "2                     0     Transient  75.0                            0   \n",
       "3                     0     Transient  75.0                            0   \n",
       "4                     0     Transient  98.0                            0   \n",
       "\n",
       "   total_of_special_requests reservation_status reservation_status_date  \n",
       "0                          0          Check-Out              2015-07-01  \n",
       "1                          0          Check-Out              2015-07-01  \n",
       "2                          0          Check-Out              2015-07-02  \n",
       "3                          0          Check-Out              2015-07-02  \n",
       "4                          1          Check-Out              2015-07-03  "
      ]
     },
     "execution_count": 9,
     "metadata": {},
     "output_type": "execute_result"
    }
   ],
   "source": [
    "hotel.head()"
   ]
  },
  {
   "cell_type": "code",
   "execution_count": 10,
   "metadata": {},
   "outputs": [],
   "source": [
    "#sns.pairplot(hotel, hue='is_canceled', vars=['adults', 'babies', 'required_car_parking_spaces'])\n",
    "\n"
   ]
  },
  {
   "cell_type": "markdown",
   "metadata": {},
   "source": [
    "## Data Preparation"
   ]
  },
  {
   "cell_type": "code",
   "execution_count": 11,
   "metadata": {},
   "outputs": [
    {
     "name": "stdout",
     "output_type": "stream",
     "text": [
      "(119390, 32)\n",
      "(119210, 32)\n"
     ]
    }
   ],
   "source": [
    "print(hotel.shape)\n",
    "hotel = hotel[~((hotel.children == 0) & (hotel.adults == 0) & (hotel.babies == 0))]\n",
    "print(hotel.shape)"
   ]
  },
  {
   "cell_type": "code",
   "execution_count": 12,
   "metadata": {},
   "outputs": [],
   "source": [
    "hotel['reservation_status_date'] = pd.to_datetime(hotel['reservation_status_date'])"
   ]
  },
  {
   "cell_type": "code",
   "execution_count": 13,
   "metadata": {},
   "outputs": [],
   "source": [
    "hotel = hotel.assign(year = hotel['reservation_status_date'].dt.year,\n",
    "                     month = hotel['reservation_status_date'].dt.month,\n",
    "                     day = hotel['reservation_status_date'].dt.day)"
   ]
  },
  {
   "cell_type": "code",
   "execution_count": 14,
   "metadata": {},
   "outputs": [
    {
     "data": {
      "text/plain": [
       "Index(['is_canceled', 'lead_time', 'arrival_date_year',\n",
       "       'arrival_date_week_number', 'arrival_date_day_of_month',\n",
       "       'stays_in_weekend_nights', 'stays_in_week_nights', 'adults', 'babies',\n",
       "       'is_repeated_guest', 'previous_cancellations',\n",
       "       'previous_bookings_not_canceled', 'booking_changes',\n",
       "       'days_in_waiting_list', 'required_car_parking_spaces',\n",
       "       'total_of_special_requests', 'year', 'month', 'day'],\n",
       "      dtype='object')"
      ]
     },
     "execution_count": 14,
     "metadata": {},
     "output_type": "execute_result"
    }
   ],
   "source": [
    "NUMERICAL_COLUMNS = hotel.select_dtypes(include='int64').columns\n",
    "NUMERICAL_COLUMNS"
   ]
  },
  {
   "cell_type": "code",
   "execution_count": 15,
   "metadata": {},
   "outputs": [
    {
     "data": {
      "text/plain": [
       "Index(['hotel_City Hotel', 'meal_BB', 'meal_HB', 'meal_SC', 'meal_Undefined',\n",
       "       'reserved_room_type_A', 'reserved_room_type_B', 'reserved_room_type_C',\n",
       "       'reserved_room_type_D', 'reserved_room_type_E', 'reserved_room_type_F',\n",
       "       'reserved_room_type_G', 'reserved_room_type_H',\n",
       "       'distribution_channel_Corporate', 'distribution_channel_Direct',\n",
       "       'distribution_channel_GDS', 'distribution_channel_TA/TO',\n",
       "       'customer_type_Contract', 'customer_type_Transient',\n",
       "       'customer_type_Transient-Party'],\n",
       "      dtype='object')"
      ]
     },
     "execution_count": 15,
     "metadata": {},
     "output_type": "execute_result"
    }
   ],
   "source": [
    "CATEGORICAL_COLUMNS = ['hotel', 'meal','reserved_room_type', 'distribution_channel', 'customer_type']\n",
    "dummies = pd.get_dummies(hotel[CATEGORICAL_COLUMNS]).drop(['meal_FB', 'reserved_room_type_L', 'distribution_channel_Undefined', 'customer_type_Group', 'hotel_Resort Hotel'], axis=1)\n",
    "DUMMIES_COLUMNS = dummies.columns\n",
    "DUMMIES_COLUMNS"
   ]
  },
  {
   "cell_type": "code",
   "execution_count": 16,
   "metadata": {},
   "outputs": [
    {
     "data": {
      "text/plain": [
       "City Hotel      79163\n",
       "Resort Hotel    40047\n",
       "Name: hotel, dtype: int64"
      ]
     },
     "execution_count": 16,
     "metadata": {},
     "output_type": "execute_result"
    }
   ],
   "source": [
    "hotel.hotel.value_counts()"
   ]
  },
  {
   "cell_type": "code",
   "execution_count": 17,
   "metadata": {},
   "outputs": [
    {
     "name": "stdout",
     "output_type": "stream",
     "text": [
      "(119210, 35)\n",
      "(119210, 55)\n"
     ]
    }
   ],
   "source": [
    "print(hotel.shape)\n",
    "hotel = pd.concat([hotel, dummies], axis=1)\n",
    "print(hotel.shape)"
   ]
  },
  {
   "cell_type": "code",
   "execution_count": 18,
   "metadata": {},
   "outputs": [],
   "source": [
    "X = hotel[NUMERICAL_COLUMNS.append(DUMMIES_COLUMNS)].drop(['is_canceled', 'arrival_date_year', 'year'], axis=1)\n",
    "y = hotel.is_canceled"
   ]
  },
  {
   "cell_type": "code",
   "execution_count": 19,
   "metadata": {},
   "outputs": [
    {
     "data": {
      "text/plain": [
       "0    75011\n",
       "1    44199\n",
       "Name: is_canceled, dtype: int64"
      ]
     },
     "execution_count": 19,
     "metadata": {},
     "output_type": "execute_result"
    }
   ],
   "source": [
    "hotel.is_canceled.value_counts(dropna=False)"
   ]
  },
  {
   "cell_type": "code",
   "execution_count": 20,
   "metadata": {},
   "outputs": [],
   "source": [
    "# 80% training and 20% test\n",
    "X_train, X_test, y_train, y_test = train_test_split(X, y, test_size = 0.25, random_state=47)"
   ]
  },
  {
   "cell_type": "markdown",
   "metadata": {},
   "source": [
    "## Model 1"
   ]
  },
  {
   "cell_type": "code",
   "execution_count": 115,
   "metadata": {},
   "outputs": [
    {
     "name": "stderr",
     "output_type": "stream",
     "text": [
      "c:\\Anaconda\\lib\\site-packages\\sklearn\\svm\\_base.py:985: ConvergenceWarning: Liblinear failed to converge, increase the number of iterations.\n",
      "  warnings.warn(\"Liblinear failed to converge, increase \"\n"
     ]
    },
    {
     "data": {
      "text/plain": [
       "LinearSVC(loss='hinge')"
      ]
     },
     "execution_count": 115,
     "metadata": {},
     "output_type": "execute_result"
    }
   ],
   "source": [
    "model = LinearSVC(loss='hinge', dual=True)\n",
    "model.fit(X_train, y_train)"
   ]
  },
  {
   "cell_type": "code",
   "execution_count": 116,
   "metadata": {},
   "outputs": [
    {
     "name": "stdout",
     "output_type": "stream",
     "text": [
      "              precision    recall  f1-score   support\n",
      "\n",
      "           0       0.66      1.00      0.80     18744\n",
      "           1       0.99      0.14      0.25     11059\n",
      "\n",
      "    accuracy                           0.68     29803\n",
      "   macro avg       0.83      0.57      0.52     29803\n",
      "weighted avg       0.78      0.68      0.59     29803\n",
      "\n"
     ]
    }
   ],
   "source": [
    "model_evaluate(model, X_test, y_test)"
   ]
  },
  {
   "cell_type": "markdown",
   "metadata": {},
   "source": [
    "## Model 2"
   ]
  },
  {
   "cell_type": "code",
   "execution_count": 115,
   "metadata": {},
   "outputs": [],
   "source": [
    "model2 = make_pipeline(StandardScaler(), LinearSVC(loss='hinge', dual=True))"
   ]
  },
  {
   "cell_type": "code",
   "execution_count": 116,
   "metadata": {},
   "outputs": [
    {
     "name": "stderr",
     "output_type": "stream",
     "text": [
      "c:\\Anaconda\\lib\\site-packages\\sklearn\\svm\\_base.py:985: ConvergenceWarning: Liblinear failed to converge, increase the number of iterations.\n",
      "  warnings.warn(\"Liblinear failed to converge, increase \"\n"
     ]
    },
    {
     "data": {
      "text/plain": [
       "Pipeline(steps=[('standardscaler', StandardScaler()),\n",
       "                ('linearsvc', LinearSVC(loss='hinge'))])"
      ]
     },
     "execution_count": 116,
     "metadata": {},
     "output_type": "execute_result"
    }
   ],
   "source": [
    "model2.fit(X_train, y_train)"
   ]
  },
  {
   "cell_type": "code",
   "execution_count": 117,
   "metadata": {},
   "outputs": [
    {
     "name": "stdout",
     "output_type": "stream",
     "text": [
      "              precision    recall  f1-score   support\n",
      "\n",
      "           0       0.72      0.92      0.81     18788\n",
      "           1       0.74      0.39      0.51     11060\n",
      "\n",
      "    accuracy                           0.72     29848\n",
      "   macro avg       0.73      0.65      0.66     29848\n",
      "weighted avg       0.73      0.72      0.70     29848\n",
      "\n"
     ]
    }
   ],
   "source": [
    "model_evaluate(model2, X_test, y_test)"
   ]
  },
  {
   "cell_type": "markdown",
   "metadata": {},
   "source": [
    "## Model 3\n",
    "Takes more than 20 min to run"
   ]
  },
  {
   "cell_type": "code",
   "execution_count": 118,
   "metadata": {},
   "outputs": [
    {
     "data": {
      "text/plain": [
       "Pipeline(steps=[('standardscaler', StandardScaler()),\n",
       "                ('svc', SVC(C=0.1, gamma=0.5))])"
      ]
     },
     "execution_count": 118,
     "metadata": {},
     "output_type": "execute_result"
    }
   ],
   "source": [
    "model3 = make_pipeline(StandardScaler(),  SVC(kernel='rbf', gamma=0.5, C=0.1))\n",
    "model3.fit(X_train, y_train)"
   ]
  },
  {
   "cell_type": "code",
   "execution_count": 119,
   "metadata": {},
   "outputs": [],
   "source": [
    "model_evaluate(model3, X_test, y_test)"
   ]
  },
  {
   "cell_type": "markdown",
   "metadata": {},
   "source": [
    "## Model 4\n",
    "Takes more than 10 min to run"
   ]
  },
  {
   "cell_type": "code",
   "execution_count": 21,
   "metadata": {},
   "outputs": [],
   "source": [
    "model_SVC = make_pipeline(StandardScaler(),  SVC(kernel='poly', degree=2, gamma='auto', coef0=1, C=5))"
   ]
  },
  {
   "cell_type": "code",
   "execution_count": 22,
   "metadata": {},
   "outputs": [
    {
     "data": {
      "text/plain": [
       "Pipeline(steps=[('standardscaler', StandardScaler()),\n",
       "                ('svc',\n",
       "                 SVC(C=5, coef0=1, degree=2, gamma='auto', kernel='poly'))])"
      ]
     },
     "execution_count": 22,
     "metadata": {},
     "output_type": "execute_result"
    }
   ],
   "source": [
    "model_SVC.fit(X_train, y_train)"
   ]
  },
  {
   "cell_type": "code",
   "execution_count": 23,
   "metadata": {},
   "outputs": [
    {
     "name": "stdout",
     "output_type": "stream",
     "text": [
      "              precision    recall  f1-score   support\n",
      "\n",
      "           0       0.84      0.99      0.91     18634\n",
      "           1       0.97      0.69      0.80     11169\n",
      "\n",
      "    accuracy                           0.88     29803\n",
      "   macro avg       0.91      0.84      0.86     29803\n",
      "weighted avg       0.89      0.88      0.87     29803\n",
      "\n"
     ]
    }
   ],
   "source": [
    "model_evaluate(model_SVC, X_test, y_test)"
   ]
  },
  {
   "cell_type": "markdown",
   "metadata": {},
   "source": [
    "## Model 5"
   ]
  },
  {
   "cell_type": "code",
   "execution_count": 21,
   "metadata": {},
   "outputs": [],
   "source": [
    "scaler = StandardScaler()\n",
    "X_train_scale = scaler.fit_transform(X_train)\n",
    "X_test_scale = scaler.transform(X_test)"
   ]
  },
  {
   "cell_type": "code",
   "execution_count": 22,
   "metadata": {},
   "outputs": [
    {
     "name": "stderr",
     "output_type": "stream",
     "text": [
      "C:\\Users\\MARCOS~1\\AppData\\Local\\Temp/ipykernel_12196/958032748.py:10: DeprecationWarning: KerasClassifier is deprecated, use Sci-Keras (https://github.com/adriangb/scikeras) instead. See https://www.adriangb.com/scikeras/stable/migration.html for help migrating.\n",
      "  model_NN = KerasClassifier(build_fn=base_model, epochs=150, batch_size=64, verbose = 0)\n"
     ]
    },
    {
     "data": {
      "text/plain": [
       "<keras.callbacks.History at 0x29b1aa19fa0>"
      ]
     },
     "execution_count": 22,
     "metadata": {},
     "output_type": "execute_result"
    }
   ],
   "source": [
    "# define the keras model\n",
    "def base_model():\n",
    "    model = Sequential()\n",
    "    model.add(Dense(4, input_dim=X_train.shape[1], activation='relu'))\n",
    "    model.add(Dense(4, activation='linear'))\n",
    "    model.add(Dense(1, activation='sigmoid'))\n",
    "    model.compile(loss='binary_crossentropy', optimizer='adam', metrics=['accuracy'])\n",
    "    return model\n",
    "\n",
    "model_NN = KerasClassifier(build_fn=base_model, epochs=150, batch_size=64, verbose = 0)    \n",
    "model_NN.fit(X_train_scale, y_train)"
   ]
  },
  {
   "cell_type": "code",
   "execution_count": 23,
   "metadata": {},
   "outputs": [
    {
     "name": "stdout",
     "output_type": "stream",
     "text": [
      "932/932 [==============================] - 1s 1ms/step\n",
      "A acurácia no conjunto de teste é 0.9536288293124853\n",
      "0.9536288293124853\n"
     ]
    }
   ],
   "source": [
    "y_pred = model_NN.predict(X_test_scale)\n",
    "print(\"A acurácia no conjunto de teste é\", accuracy_score(y_test, y_pred))\n",
    "print((y_pred.flatten() == y_test).mean())"
   ]
  },
  {
   "cell_type": "code",
   "execution_count": 24,
   "metadata": {},
   "outputs": [
    {
     "data": {
      "text/plain": [
       "[array([[-1.64736323e-02, -3.87834907e-01, -3.03591136e-02,\n",
       "         -1.83908176e-02],\n",
       "        [ 2.07626891e+00,  6.66125178e-01,  2.30386519e+00,\n",
       "          2.37278557e+00],\n",
       "        [ 2.71893535e-02,  5.29851690e-02,  1.99238975e-02,\n",
       "          1.46708628e-02],\n",
       "        [-4.08742949e-03,  2.20627680e-01,  1.15973270e-02,\n",
       "          1.16515979e-02],\n",
       "        [ 4.31069732e-02,  1.92771982e-02,  4.21384312e-02,\n",
       "          4.45233621e-02],\n",
       "        [-4.30018175e-03,  7.57506639e-02, -6.08413829e-04,\n",
       "          2.85979849e-03],\n",
       "        [-1.83870066e-02,  4.55308296e-02, -8.40887148e-03,\n",
       "         -6.72754971e-03],\n",
       "        [-4.98415157e-03,  1.08087219e-01,  3.39088799e-03,\n",
       "         -1.13998279e-02],\n",
       "        [-2.28371215e+00, -3.42886376e+00, -4.44209278e-02,\n",
       "         -2.59327907e-02],\n",
       "        [ 2.11088695e-02, -1.87743977e-01,  2.52732616e-02,\n",
       "         -1.86996433e-04],\n",
       "        [-1.21159886e-03,  2.44830638e-01, -2.83251703e-03,\n",
       "          7.39394361e-03],\n",
       "        [ 3.92711209e-03,  5.66932783e-02, -1.15881888e-02,\n",
       "          2.88979081e-03],\n",
       "        [ 8.97286296e-01,  7.55091727e-01,  1.28834927e+00,\n",
       "         -4.68595952e-01],\n",
       "        [ 2.84553245e-02,  5.43206111e-02,  7.68874679e-03,\n",
       "          6.96582301e-03],\n",
       "        [-2.23197699e+00, -6.96068287e-01, -2.47874951e+00,\n",
       "         -2.55021429e+00],\n",
       "        [-2.11732179e-01, -1.09742664e-01, -2.34065458e-01,\n",
       "         -2.26545334e-01],\n",
       "        [ 5.02935657e-03,  7.15377852e-02,  4.33249632e-03,\n",
       "          1.65457849e-03],\n",
       "        [ 1.42623093e-02,  1.85161799e-01, -1.47205740e-02,\n",
       "         -2.72393669e-03],\n",
       "        [ 2.07219552e-02, -1.35299668e-01, -4.67105815e-03,\n",
       "         -5.62606938e-03],\n",
       "        [ 2.89734066e-01,  1.62951369e-02, -2.54390359e-01,\n",
       "          1.62405930e-02],\n",
       "        [-4.60062712e-01,  2.82338321e-01, -5.70698202e-01,\n",
       "         -6.90802038e-01],\n",
       "        [-7.71177793e-03,  1.38329744e-01,  3.83428991e-01,\n",
       "          6.73891678e-02],\n",
       "        [-1.40545070e-02,  8.41564462e-02,  7.08384588e-02,\n",
       "          1.08783944e-02],\n",
       "        [-3.54002893e-01,  1.29830152e-01, -4.10982460e-01,\n",
       "         -4.90076751e-01],\n",
       "        [ 3.34861010e-01,  1.11490235e-01, -2.95228837e-03,\n",
       "          6.79526031e-02],\n",
       "        [-6.03046408e-03,  2.17967436e-01,  1.84029579e-01,\n",
       "          4.10168767e-02],\n",
       "        [ 1.35951594e-01,  1.17421746e-02, -4.44624893e-04,\n",
       "          2.62173396e-02],\n",
       "        [ 5.48345316e-03, -2.59475172e-01,  1.22627452e-01,\n",
       "          1.69424098e-02],\n",
       "        [ 1.26495436e-01, -2.14866042e-01,  1.43570364e-01,\n",
       "          1.15286849e-01],\n",
       "        [ 1.30629063e-01, -4.61112410e-02,  1.62121542e-02,\n",
       "          2.19501749e-01],\n",
       "        [ 2.18452007e-01,  1.86916292e-01,  5.71110621e-02,\n",
       "          3.42856884e-01],\n",
       "        [-4.25238669e-01,  1.42719358e-01, -5.30724764e-01,\n",
       "          2.68730372e-02],\n",
       "        [ 2.35236302e-01,  1.99345633e-01,  4.52204570e-02,\n",
       "          3.88378859e-01],\n",
       "        [ 2.21206713e-03,  9.14218202e-02, -4.34103003e-03,\n",
       "          8.46809708e-03],\n",
       "        [-1.06836474e-02, -4.94073957e-01,  1.36614405e-02,\n",
       "         -3.19601782e-03],\n",
       "        [ 4.02250409e-01, -8.23860943e-01, -3.23895067e-01,\n",
       "          1.48066906e-02]], dtype=float32),\n",
       " array([0.13108902, 1.2687858 , 0.4078941 , 0.11679347], dtype=float32),\n",
       " array([[-1.6226463 ,  0.36627236, -1.6689197 , -1.0432138 ],\n",
       "        [-0.29378614, -0.15487385,  0.0749445 , -0.0881856 ],\n",
       "        [-2.070129  ,  0.9476015 , -0.84058416, -1.0730981 ],\n",
       "        [ 2.755602  , -2.2837918 ,  2.810841  ,  1.0831766 ]],\n",
       "       dtype=float32),\n",
       " array([ 0.23984362, -0.17690155,  0.23839888,  0.16291997], dtype=float32),\n",
       " array([[ 6.9177194],\n",
       "        [-2.246986 ],\n",
       "        [ 4.7097387],\n",
       "        [ 0.6469572]], dtype=float32),\n",
       " array([0.19224334], dtype=float32)]"
      ]
     },
     "execution_count": 24,
     "metadata": {},
     "output_type": "execute_result"
    }
   ],
   "source": [
    "model_NN.model.get_weights()"
   ]
  },
  {
   "cell_type": "markdown",
   "metadata": {},
   "source": [
    "## Model 6"
   ]
  },
  {
   "cell_type": "code",
   "execution_count": 21,
   "metadata": {},
   "outputs": [],
   "source": [
    "base_estimator = DecisionTreeClassifier(max_depth = 2, random_state=47)\n",
    "model_adaboost = AdaBoostClassifier(base_estimator = base_estimator,\n",
    "                                    n_estimators = 50,\n",
    "                                    learning_rate = 1,\n",
    "                                    algorithm = 'SAMME.R',\n",
    "                                    random_state = 47)\n",
    "\n",
    "cv = RepeatedKFold(n_splits = 10, n_repeats = 5, random_state = 47)\n",
    "scores = cross_val_score(model_adaboost, X, y, cv = cv)                                               "
   ]
  },
  {
   "cell_type": "code",
   "execution_count": 24,
   "metadata": {},
   "outputs": [
    {
     "data": {
      "text/plain": [
       "0.9520728126834997"
      ]
     },
     "execution_count": 24,
     "metadata": {},
     "output_type": "execute_result"
    }
   ],
   "source": [
    "scores.mean()"
   ]
  },
  {
   "cell_type": "code",
   "execution_count": 25,
   "metadata": {},
   "outputs": [
    {
     "data": {
      "text/plain": [
       "AdaBoostClassifier(base_estimator=DecisionTreeClassifier(max_depth=2,\n",
       "                                                         random_state=47),\n",
       "                   learning_rate=1, random_state=47)"
      ]
     },
     "execution_count": 25,
     "metadata": {},
     "output_type": "execute_result"
    }
   ],
   "source": [
    "model_adaboost.fit(X_train, y_train)                                                 "
   ]
  },
  {
   "cell_type": "code",
   "execution_count": 26,
   "metadata": {},
   "outputs": [
    {
     "name": "stdout",
     "output_type": "stream",
     "text": [
      "              precision    recall  f1-score   support\n",
      "\n",
      "           0       0.93      0.99      0.96     18631\n",
      "           1       0.98      0.88      0.93     11172\n",
      "\n",
      "    accuracy                           0.95     29803\n",
      "   macro avg       0.95      0.94      0.94     29803\n",
      "weighted avg       0.95      0.95      0.95     29803\n",
      "\n"
     ]
    }
   ],
   "source": [
    "model_evaluate(model_adaboost, X_test, y_test)"
   ]
  },
  {
   "cell_type": "code",
   "execution_count": 43,
   "metadata": {},
   "outputs": [
    {
     "data": {
      "text/plain": [
       "array([0.25, 0.16, 0.04, 0.01, 0.02, 0.01, 0.  , 0.  , 0.04, 0.04, 0.02,\n",
       "       0.04, 0.01, 0.04, 0.18, 0.03, 0.01, 0.  , 0.  , 0.  , 0.01, 0.  ,\n",
       "       0.01, 0.01, 0.01, 0.  , 0.  , 0.01, 0.01, 0.  , 0.01, 0.01, 0.  ,\n",
       "       0.  , 0.02, 0.  ])"
      ]
     },
     "execution_count": 43,
     "metadata": {},
     "output_type": "execute_result"
    }
   ],
   "source": [
    "model_adaboost.feature_importances_"
   ]
  },
  {
   "cell_type": "code",
   "execution_count": 45,
   "metadata": {},
   "outputs": [
    {
     "data": {
      "text/plain": [
       "array([1., 1., 1., 1., 1., 1., 1., 1., 1., 1., 1., 1., 1., 1., 1., 1., 1.,\n",
       "       1., 1., 1., 1., 1., 1., 1., 1., 1., 1., 1., 1., 1., 1., 1., 1., 1.,\n",
       "       1., 1., 1., 1., 1., 1., 1., 1., 1., 1., 1., 1., 1., 1., 1., 1., 1.,\n",
       "       1., 1., 1., 1., 1., 1., 1., 1., 1., 1., 1., 1., 1., 1., 1., 1., 1.,\n",
       "       1., 1., 1., 1., 1., 1., 1., 1., 1., 1., 1., 1., 1., 1., 1., 1., 1.,\n",
       "       1., 1., 1., 1., 1., 1., 1., 1., 1., 1., 1., 1., 1., 1., 1.])"
      ]
     },
     "execution_count": 45,
     "metadata": {},
     "output_type": "execute_result"
    }
   ],
   "source": [
    "model_adaboost.estimator_weights_"
   ]
  },
  {
   "cell_type": "markdown",
   "metadata": {},
   "source": [
    "## Saving objects"
   ]
  },
  {
   "cell_type": "code",
   "execution_count": 27,
   "metadata": {},
   "outputs": [],
   "source": [
    "#with open('model_SVC.pickle','wb') as f:\n",
    "#   pickle.dump(model_SVC, f)\n",
    "\n",
    "# with open('model_adaboost.pickle','wb') as f:\n",
    "#    pickle.dump(model_adaboost, f)\n",
    "\n",
    "# with open('scaler.pickle','wb') as f:\n",
    "#   pickle.dump(scaler, f)\n",
    "\n",
    "#model_NN.model.save('model_NN.h5')\n",
    "#del model_NN"
   ]
  },
  {
   "cell_type": "markdown",
   "metadata": {},
   "source": [
    "## Feature Importances"
   ]
  },
  {
   "cell_type": "code",
   "execution_count": 24,
   "metadata": {},
   "outputs": [
    {
     "name": "stdout",
     "output_type": "stream",
     "text": [
      "932/932 [==============================] - 2s 2ms/step\n",
      "932/932 [==============================] - 2s 2ms/step\n",
      "932/932 [==============================] - 1s 2ms/step\n",
      "932/932 [==============================] - 1s 1ms/step\n",
      "932/932 [==============================] - 1s 1ms/step\n",
      "932/932 [==============================] - 1s 1ms/step\n",
      "932/932 [==============================] - 1s 1ms/step\n",
      "932/932 [==============================] - 1s 1ms/step\n",
      "932/932 [==============================] - 1s 1ms/step\n",
      "932/932 [==============================] - 1s 1ms/step\n",
      "932/932 [==============================] - 1s 1ms/step\n",
      "932/932 [==============================] - 1s 1ms/step\n",
      "932/932 [==============================] - 1s 1ms/step\n",
      "932/932 [==============================] - 1s 1ms/step\n",
      "932/932 [==============================] - 1s 1ms/step\n",
      "932/932 [==============================] - 1s 1ms/step\n",
      "932/932 [==============================] - 1s 1ms/step\n",
      "932/932 [==============================] - 1s 1ms/step\n",
      "932/932 [==============================] - 1s 1ms/step\n",
      "932/932 [==============================] - 1s 1ms/step\n",
      "932/932 [==============================] - 1s 1ms/step\n",
      "932/932 [==============================] - 1s 1ms/step\n",
      "932/932 [==============================] - 1s 1ms/step\n",
      "932/932 [==============================] - 1s 1ms/step\n",
      "932/932 [==============================] - 1s 1ms/step\n",
      "932/932 [==============================] - 1s 1ms/step\n",
      "932/932 [==============================] - 1s 1ms/step\n",
      "932/932 [==============================] - 1s 1ms/step\n",
      "932/932 [==============================] - 1s 1ms/step\n",
      "932/932 [==============================] - 1s 1ms/step\n",
      "932/932 [==============================] - 1s 1ms/step\n",
      "932/932 [==============================] - 1s 1ms/step\n",
      "932/932 [==============================] - 1s 1ms/step\n",
      "932/932 [==============================] - 1s 1ms/step\n",
      "932/932 [==============================] - 1s 1ms/step\n",
      "932/932 [==============================] - 1s 1ms/step\n",
      "932/932 [==============================] - 1s 1ms/step\n",
      "932/932 [==============================] - 1s 1ms/step\n",
      "932/932 [==============================] - 1s 1ms/step\n",
      "932/932 [==============================] - 1s 1ms/step\n",
      "932/932 [==============================] - 1s 1ms/step\n",
      "932/932 [==============================] - 1s 1ms/step\n",
      "932/932 [==============================] - 1s 1ms/step\n",
      "932/932 [==============================] - 1s 1ms/step\n",
      "932/932 [==============================] - 1s 1ms/step\n",
      "932/932 [==============================] - 1s 1ms/step\n",
      "932/932 [==============================] - 1s 1ms/step\n",
      "932/932 [==============================] - 1s 1ms/step\n",
      "932/932 [==============================] - 1s 1ms/step\n",
      "932/932 [==============================] - 1s 1ms/step\n",
      "932/932 [==============================] - 1s 1ms/step\n",
      "932/932 [==============================] - 1s 1ms/step\n",
      "932/932 [==============================] - 1s 1ms/step\n",
      "932/932 [==============================] - 1s 1ms/step\n",
      "932/932 [==============================] - 1s 1ms/step\n",
      "932/932 [==============================] - 1s 1ms/step\n",
      "932/932 [==============================] - 1s 1ms/step\n",
      "932/932 [==============================] - 1s 1ms/step\n",
      "932/932 [==============================] - 1s 1ms/step\n",
      "932/932 [==============================] - 1s 1ms/step\n",
      "932/932 [==============================] - 1s 1ms/step\n",
      "932/932 [==============================] - 1s 1ms/step\n",
      "932/932 [==============================] - 1s 1ms/step\n",
      "932/932 [==============================] - 1s 1ms/step\n",
      "932/932 [==============================] - 1s 1ms/step\n",
      "932/932 [==============================] - 1s 1ms/step\n",
      "932/932 [==============================] - 1s 1ms/step\n",
      "932/932 [==============================] - 1s 1ms/step\n",
      "932/932 [==============================] - 1s 1ms/step\n",
      "932/932 [==============================] - 1s 1ms/step\n",
      "932/932 [==============================] - 1s 1ms/step\n",
      "932/932 [==============================] - 1s 1ms/step\n",
      "932/932 [==============================] - 1s 1ms/step\n",
      "932/932 [==============================] - 1s 1ms/step\n",
      "932/932 [==============================] - 1s 1ms/step\n",
      "932/932 [==============================] - 1s 1ms/step\n",
      "932/932 [==============================] - 1s 1ms/step\n",
      "932/932 [==============================] - 1s 1ms/step\n",
      "932/932 [==============================] - 1s 1ms/step\n",
      "932/932 [==============================] - 1s 1ms/step\n",
      "932/932 [==============================] - 1s 1ms/step\n",
      "932/932 [==============================] - 1s 1ms/step\n",
      "932/932 [==============================] - 1s 1ms/step\n",
      "932/932 [==============================] - 1s 1ms/step\n",
      "932/932 [==============================] - 1s 1ms/step\n",
      "932/932 [==============================] - 1s 1ms/step\n",
      "932/932 [==============================] - 1s 1ms/step\n",
      "932/932 [==============================] - 1s 1ms/step\n",
      "932/932 [==============================] - 1s 1ms/step\n",
      "932/932 [==============================] - 1s 1ms/step\n",
      "932/932 [==============================] - 1s 1ms/step\n",
      "932/932 [==============================] - 1s 1ms/step\n",
      "932/932 [==============================] - 1s 1ms/step\n",
      "932/932 [==============================] - 1s 1ms/step\n",
      "932/932 [==============================] - 1s 1ms/step\n",
      "932/932 [==============================] - 1s 1ms/step\n",
      "932/932 [==============================] - 1s 1ms/step\n",
      "932/932 [==============================] - 1s 1ms/step\n",
      "932/932 [==============================] - 1s 1ms/step\n",
      "932/932 [==============================] - 1s 1ms/step\n",
      "932/932 [==============================] - 1s 1ms/step\n",
      "932/932 [==============================] - 1s 1ms/step\n",
      "932/932 [==============================] - 1s 1ms/step\n",
      "932/932 [==============================] - 1s 1ms/step\n",
      "932/932 [==============================] - 1s 1ms/step\n",
      "932/932 [==============================] - 1s 1ms/step\n",
      "932/932 [==============================] - 1s 1ms/step\n",
      "932/932 [==============================] - 1s 1ms/step\n",
      "932/932 [==============================] - 1s 1ms/step\n",
      "932/932 [==============================] - 1s 1ms/step\n",
      "932/932 [==============================] - 1s 1ms/step\n",
      "932/932 [==============================] - 1s 1ms/step\n",
      "932/932 [==============================] - 1s 1ms/step\n",
      "932/932 [==============================] - 1s 1ms/step\n",
      "932/932 [==============================] - 1s 1ms/step\n",
      "932/932 [==============================] - 1s 1ms/step\n",
      "932/932 [==============================] - 1s 1ms/step\n",
      "932/932 [==============================] - 1s 1ms/step\n",
      "932/932 [==============================] - 1s 1ms/step\n",
      "932/932 [==============================] - 1s 1ms/step\n",
      "932/932 [==============================] - 1s 1ms/step\n",
      "932/932 [==============================] - 1s 1ms/step\n",
      "932/932 [==============================] - 1s 1ms/step\n",
      "932/932 [==============================] - 1s 1ms/step\n",
      "932/932 [==============================] - 1s 1ms/step\n",
      "932/932 [==============================] - 1s 1ms/step\n",
      "932/932 [==============================] - 1s 1ms/step\n",
      "932/932 [==============================] - 1s 1ms/step\n",
      "932/932 [==============================] - 1s 1ms/step\n",
      "932/932 [==============================] - 1s 1ms/step\n",
      "932/932 [==============================] - 1s 1ms/step\n",
      "932/932 [==============================] - 1s 1ms/step\n",
      "932/932 [==============================] - 1s 1ms/step\n",
      "932/932 [==============================] - 1s 1ms/step\n",
      "932/932 [==============================] - 1s 1ms/step\n",
      "932/932 [==============================] - 1s 1ms/step\n",
      "932/932 [==============================] - 1s 1ms/step\n",
      "932/932 [==============================] - 1s 1ms/step\n",
      "932/932 [==============================] - 1s 1ms/step\n",
      "932/932 [==============================] - 1s 1ms/step\n",
      "932/932 [==============================] - 1s 1ms/step\n",
      "932/932 [==============================] - 1s 1ms/step\n",
      "932/932 [==============================] - 1s 1ms/step\n",
      "932/932 [==============================] - 1s 1ms/step\n",
      "932/932 [==============================] - 1s 1ms/step\n",
      "932/932 [==============================] - 1s 1ms/step\n",
      "932/932 [==============================] - 1s 1ms/step\n",
      "932/932 [==============================] - 1s 1ms/step\n",
      "932/932 [==============================] - 1s 1ms/step\n",
      "932/932 [==============================] - 1s 1ms/step\n",
      "932/932 [==============================] - 1s 1ms/step\n",
      "932/932 [==============================] - 1s 1ms/step\n",
      "932/932 [==============================] - 1s 1ms/step\n",
      "932/932 [==============================] - 1s 1ms/step\n",
      "932/932 [==============================] - 1s 1ms/step\n",
      "932/932 [==============================] - 1s 1ms/step\n",
      "932/932 [==============================] - 1s 1ms/step\n",
      "932/932 [==============================] - 1s 1ms/step\n",
      "932/932 [==============================] - 1s 1ms/step\n",
      "932/932 [==============================] - 1s 1ms/step\n",
      "932/932 [==============================] - 1s 1ms/step\n",
      "932/932 [==============================] - 1s 1ms/step\n",
      "932/932 [==============================] - 1s 1ms/step\n",
      "932/932 [==============================] - 1s 1ms/step\n",
      "932/932 [==============================] - 1s 1ms/step\n",
      "932/932 [==============================] - 1s 1ms/step\n",
      "932/932 [==============================] - 1s 1ms/step\n",
      "932/932 [==============================] - 1s 1ms/step\n",
      "932/932 [==============================] - 1s 1ms/step\n",
      "932/932 [==============================] - 1s 1ms/step\n",
      "932/932 [==============================] - 1s 1ms/step\n",
      "932/932 [==============================] - 1s 1ms/step\n",
      "932/932 [==============================] - 1s 1ms/step\n",
      "932/932 [==============================] - 1s 1ms/step\n",
      "932/932 [==============================] - 1s 1ms/step\n",
      "932/932 [==============================] - 1s 1ms/step\n",
      "932/932 [==============================] - 1s 1ms/step\n",
      "932/932 [==============================] - 1s 1ms/step\n",
      "932/932 [==============================] - 1s 1ms/step\n",
      "932/932 [==============================] - 2s 2ms/step\n",
      "932/932 [==============================] - 2s 2ms/step\n"
     ]
    },
    {
     "data": {
      "text/plain": [
       "PermutationImportance(estimator=<keras.wrappers.scikit_learn.KerasClassifier object at 0x000001741E092910>,\n",
       "                      random_state=47, scoring='accuracy')"
      ]
     },
     "execution_count": 24,
     "metadata": {},
     "output_type": "execute_result"
    }
   ],
   "source": [
    "import eli5\n",
    "from eli5.sklearn import PermutationImportance\n",
    "\n",
    "perm = PermutationImportance(model_NN, \n",
    "                             scoring = 'accuracy',\n",
    "                             cv = 'prefit',\n",
    "                             n_iter = 5,\n",
    "                             random_state = 47)\n",
    "perm.fit(X_test_scale, y_test)"
   ]
  },
  {
   "cell_type": "code",
   "execution_count": 4,
   "metadata": {},
   "outputs": [],
   "source": [
    "#hotel.groupby(['is_canceled', 'arrival_date_week_number']).count()"
   ]
  },
  {
   "cell_type": "code",
   "execution_count": 26,
   "metadata": {},
   "outputs": [
    {
     "data": {
      "text/html": [
       "\n",
       "    <style>\n",
       "    table.eli5-weights tr:hover {\n",
       "        filter: brightness(85%);\n",
       "    }\n",
       "</style>\n",
       "\n",
       "\n",
       "\n",
       "    \n",
       "\n",
       "    \n",
       "\n",
       "    \n",
       "\n",
       "    \n",
       "\n",
       "    \n",
       "\n",
       "    \n",
       "\n",
       "\n",
       "    \n",
       "\n",
       "    \n",
       "\n",
       "    \n",
       "\n",
       "    \n",
       "\n",
       "    \n",
       "\n",
       "    \n",
       "\n",
       "\n",
       "    \n",
       "\n",
       "    \n",
       "\n",
       "    \n",
       "\n",
       "    \n",
       "\n",
       "    \n",
       "        <table class=\"eli5-weights eli5-feature-importances\" style=\"border-collapse: collapse; border: none; margin-top: 0em; table-layout: auto;\">\n",
       "    <thead>\n",
       "    <tr style=\"border: none;\">\n",
       "        <th style=\"padding: 0 1em 0 0.5em; text-align: right; border: none;\">Weight</th>\n",
       "        <th style=\"padding: 0 0.5em 0 0.5em; text-align: left; border: none;\">Feature</th>\n",
       "    </tr>\n",
       "    </thead>\n",
       "    <tbody>\n",
       "    \n",
       "        <tr style=\"background-color: hsl(120, 100.00%, 80.00%); border: none;\">\n",
       "            <td style=\"padding: 0 1em 0 0.5em; text-align: right; border: none;\">\n",
       "                0.4551\n",
       "                \n",
       "                    &plusmn; 0.0029\n",
       "                \n",
       "            </td>\n",
       "            <td style=\"padding: 0 0.5em 0 0.5em; text-align: left; border: none;\">\n",
       "                arrival_date_week_number\n",
       "            </td>\n",
       "        </tr>\n",
       "    \n",
       "        <tr style=\"background-color: hsl(120, 100.00%, 80.27%); border: none;\">\n",
       "            <td style=\"padding: 0 1em 0 0.5em; text-align: right; border: none;\">\n",
       "                0.4465\n",
       "                \n",
       "                    &plusmn; 0.0027\n",
       "                \n",
       "            </td>\n",
       "            <td style=\"padding: 0 0.5em 0 0.5em; text-align: left; border: none;\">\n",
       "                month\n",
       "            </td>\n",
       "        </tr>\n",
       "    \n",
       "        <tr style=\"background-color: hsl(120, 100.00%, 90.17%); border: none;\">\n",
       "            <td style=\"padding: 0 1em 0 0.5em; text-align: right; border: none;\">\n",
       "                0.1649\n",
       "                \n",
       "                    &plusmn; 0.0024\n",
       "                \n",
       "            </td>\n",
       "            <td style=\"padding: 0 0.5em 0 0.5em; text-align: left; border: none;\">\n",
       "                day\n",
       "            </td>\n",
       "        </tr>\n",
       "    \n",
       "        <tr style=\"background-color: hsl(120, 100.00%, 92.59%); border: none;\">\n",
       "            <td style=\"padding: 0 1em 0 0.5em; text-align: right; border: none;\">\n",
       "                0.1102\n",
       "                \n",
       "                    &plusmn; 0.0019\n",
       "                \n",
       "            </td>\n",
       "            <td style=\"padding: 0 0.5em 0 0.5em; text-align: left; border: none;\">\n",
       "                customer_type_Transient\n",
       "            </td>\n",
       "        </tr>\n",
       "    \n",
       "        <tr style=\"background-color: hsl(120, 100.00%, 94.19%); border: none;\">\n",
       "            <td style=\"padding: 0 1em 0 0.5em; text-align: right; border: none;\">\n",
       "                0.0779\n",
       "                \n",
       "                    &plusmn; 0.0018\n",
       "                \n",
       "            </td>\n",
       "            <td style=\"padding: 0 0.5em 0 0.5em; text-align: left; border: none;\">\n",
       "                customer_type_Transient-Party\n",
       "            </td>\n",
       "        </tr>\n",
       "    \n",
       "        <tr style=\"background-color: hsl(120, 100.00%, 95.16%); border: none;\">\n",
       "            <td style=\"padding: 0 1em 0 0.5em; text-align: right; border: none;\">\n",
       "                0.0599\n",
       "                \n",
       "                    &plusmn; 0.0010\n",
       "                \n",
       "            </td>\n",
       "            <td style=\"padding: 0 0.5em 0 0.5em; text-align: left; border: none;\">\n",
       "                reserved_room_type_A\n",
       "            </td>\n",
       "        </tr>\n",
       "    \n",
       "        <tr style=\"background-color: hsl(120, 100.00%, 95.49%); border: none;\">\n",
       "            <td style=\"padding: 0 1em 0 0.5em; text-align: right; border: none;\">\n",
       "                0.0542\n",
       "                \n",
       "                    &plusmn; 0.0011\n",
       "                \n",
       "            </td>\n",
       "            <td style=\"padding: 0 0.5em 0 0.5em; text-align: left; border: none;\">\n",
       "                reserved_room_type_D\n",
       "            </td>\n",
       "        </tr>\n",
       "    \n",
       "        <tr style=\"background-color: hsl(120, 100.00%, 97.05%); border: none;\">\n",
       "            <td style=\"padding: 0 1em 0 0.5em; text-align: right; border: none;\">\n",
       "                0.0296\n",
       "                \n",
       "                    &plusmn; 0.0009\n",
       "                \n",
       "            </td>\n",
       "            <td style=\"padding: 0 0.5em 0 0.5em; text-align: left; border: none;\">\n",
       "                previous_cancellations\n",
       "            </td>\n",
       "        </tr>\n",
       "    \n",
       "        <tr style=\"background-color: hsl(120, 100.00%, 97.35%); border: none;\">\n",
       "            <td style=\"padding: 0 1em 0 0.5em; text-align: right; border: none;\">\n",
       "                0.0254\n",
       "                \n",
       "                    &plusmn; 0.0020\n",
       "                \n",
       "            </td>\n",
       "            <td style=\"padding: 0 0.5em 0 0.5em; text-align: left; border: none;\">\n",
       "                distribution_channel_TA/TO\n",
       "            </td>\n",
       "        </tr>\n",
       "    \n",
       "        <tr style=\"background-color: hsl(120, 100.00%, 97.66%); border: none;\">\n",
       "            <td style=\"padding: 0 1em 0 0.5em; text-align: right; border: none;\">\n",
       "                0.0212\n",
       "                \n",
       "                    &plusmn; 0.0014\n",
       "                \n",
       "            </td>\n",
       "            <td style=\"padding: 0 0.5em 0 0.5em; text-align: left; border: none;\">\n",
       "                reserved_room_type_E\n",
       "            </td>\n",
       "        </tr>\n",
       "    \n",
       "        <tr style=\"background-color: hsl(120, 100.00%, 97.71%); border: none;\">\n",
       "            <td style=\"padding: 0 1em 0 0.5em; text-align: right; border: none;\">\n",
       "                0.0206\n",
       "                \n",
       "                    &plusmn; 0.0009\n",
       "                \n",
       "            </td>\n",
       "            <td style=\"padding: 0 0.5em 0 0.5em; text-align: left; border: none;\">\n",
       "                required_car_parking_spaces\n",
       "            </td>\n",
       "        </tr>\n",
       "    \n",
       "        <tr style=\"background-color: hsl(120, 100.00%, 98.06%); border: none;\">\n",
       "            <td style=\"padding: 0 1em 0 0.5em; text-align: right; border: none;\">\n",
       "                0.0162\n",
       "                \n",
       "                    &plusmn; 0.0002\n",
       "                \n",
       "            </td>\n",
       "            <td style=\"padding: 0 0.5em 0 0.5em; text-align: left; border: none;\">\n",
       "                distribution_channel_Direct\n",
       "            </td>\n",
       "        </tr>\n",
       "    \n",
       "        <tr style=\"background-color: hsl(120, 100.00%, 98.26%); border: none;\">\n",
       "            <td style=\"padding: 0 1em 0 0.5em; text-align: right; border: none;\">\n",
       "                0.0139\n",
       "                \n",
       "                    &plusmn; 0.0007\n",
       "                \n",
       "            </td>\n",
       "            <td style=\"padding: 0 0.5em 0 0.5em; text-align: left; border: none;\">\n",
       "                lead_time\n",
       "            </td>\n",
       "        </tr>\n",
       "    \n",
       "        <tr style=\"background-color: hsl(120, 100.00%, 98.31%); border: none;\">\n",
       "            <td style=\"padding: 0 1em 0 0.5em; text-align: right; border: none;\">\n",
       "                0.0133\n",
       "                \n",
       "                    &plusmn; 0.0004\n",
       "                \n",
       "            </td>\n",
       "            <td style=\"padding: 0 0.5em 0 0.5em; text-align: left; border: none;\">\n",
       "                distribution_channel_Corporate\n",
       "            </td>\n",
       "        </tr>\n",
       "    \n",
       "        <tr style=\"background-color: hsl(120, 100.00%, 98.53%); border: none;\">\n",
       "            <td style=\"padding: 0 1em 0 0.5em; text-align: right; border: none;\">\n",
       "                0.0109\n",
       "                \n",
       "                    &plusmn; 0.0008\n",
       "                \n",
       "            </td>\n",
       "            <td style=\"padding: 0 0.5em 0 0.5em; text-align: left; border: none;\">\n",
       "                meal_BB\n",
       "            </td>\n",
       "        </tr>\n",
       "    \n",
       "        <tr style=\"background-color: hsl(120, 100.00%, 98.54%); border: none;\">\n",
       "            <td style=\"padding: 0 1em 0 0.5em; text-align: right; border: none;\">\n",
       "                0.0109\n",
       "                \n",
       "                    &plusmn; 0.0010\n",
       "                \n",
       "            </td>\n",
       "            <td style=\"padding: 0 0.5em 0 0.5em; text-align: left; border: none;\">\n",
       "                reserved_room_type_F\n",
       "            </td>\n",
       "        </tr>\n",
       "    \n",
       "        <tr style=\"background-color: hsl(120, 100.00%, 98.54%); border: none;\">\n",
       "            <td style=\"padding: 0 1em 0 0.5em; text-align: right; border: none;\">\n",
       "                0.0108\n",
       "                \n",
       "                    &plusmn; 0.0009\n",
       "                \n",
       "            </td>\n",
       "            <td style=\"padding: 0 0.5em 0 0.5em; text-align: left; border: none;\">\n",
       "                stays_in_week_nights\n",
       "            </td>\n",
       "        </tr>\n",
       "    \n",
       "        <tr style=\"background-color: hsl(120, 100.00%, 98.58%); border: none;\">\n",
       "            <td style=\"padding: 0 1em 0 0.5em; text-align: right; border: none;\">\n",
       "                0.0104\n",
       "                \n",
       "                    &plusmn; 0.0013\n",
       "                \n",
       "            </td>\n",
       "            <td style=\"padding: 0 0.5em 0 0.5em; text-align: left; border: none;\">\n",
       "                is_repeated_guest\n",
       "            </td>\n",
       "        </tr>\n",
       "    \n",
       "        <tr style=\"background-color: hsl(120, 100.00%, 98.69%); border: none;\">\n",
       "            <td style=\"padding: 0 1em 0 0.5em; text-align: right; border: none;\">\n",
       "                0.0093\n",
       "                \n",
       "                    &plusmn; 0.0008\n",
       "                \n",
       "            </td>\n",
       "            <td style=\"padding: 0 0.5em 0 0.5em; text-align: left; border: none;\">\n",
       "                customer_type_Contract\n",
       "            </td>\n",
       "        </tr>\n",
       "    \n",
       "        <tr style=\"background-color: hsl(120, 100.00%, 98.80%); border: none;\">\n",
       "            <td style=\"padding: 0 1em 0 0.5em; text-align: right; border: none;\">\n",
       "                0.0082\n",
       "                \n",
       "                    &plusmn; 0.0008\n",
       "                \n",
       "            </td>\n",
       "            <td style=\"padding: 0 0.5em 0 0.5em; text-align: left; border: none;\">\n",
       "                previous_bookings_not_canceled\n",
       "            </td>\n",
       "        </tr>\n",
       "    \n",
       "    \n",
       "        \n",
       "            <tr style=\"background-color: hsl(120, 100.00%, 98.80%); border: none;\">\n",
       "                <td colspan=\"2\" style=\"padding: 0 0.5em 0 0.5em; text-align: center; border: none; white-space: nowrap;\">\n",
       "                    <i>&hellip; 16 more &hellip;</i>\n",
       "                </td>\n",
       "            </tr>\n",
       "        \n",
       "    \n",
       "    </tbody>\n",
       "</table>\n",
       "    \n",
       "\n",
       "    \n",
       "\n",
       "\n",
       "    \n",
       "\n",
       "    \n",
       "\n",
       "    \n",
       "\n",
       "    \n",
       "\n",
       "    \n",
       "\n",
       "    \n",
       "\n",
       "\n",
       "\n"
      ],
      "text/plain": [
       "<IPython.core.display.HTML object>"
      ]
     },
     "execution_count": 26,
     "metadata": {},
     "output_type": "execute_result"
    }
   ],
   "source": [
    "eli5.show_weights(perm, feature_names = X_test.columns.tolist())"
   ]
  },
  {
   "cell_type": "code",
   "execution_count": 25,
   "metadata": {},
   "outputs": [
    {
     "name": "stdout",
     "output_type": "stream",
     "text": [
      "INFO:tensorflow:Assets written to: ram://28d6d433-4cae-4186-987a-59123cd1d7c5/assets\n"
     ]
    }
   ],
   "source": [
    "with open('importances.pickle','wb') as f:\n",
    "    pickle.dump(perm, f)"
   ]
  },
  {
   "cell_type": "markdown",
   "metadata": {},
   "source": [
    "## Prediction"
   ]
  },
  {
   "cell_type": "code",
   "execution_count": 68,
   "metadata": {},
   "outputs": [
    {
     "name": "stdout",
     "output_type": "stream",
     "text": [
      "932/932 [==============================] - 1s 1ms/step\n",
      "A acurácia no conjunto de teste é 0.9536288293124853\n",
      "0.9536288293124853\n"
     ]
    }
   ],
   "source": [
    "model_NN = load_model('model_NN.h5')\n",
    "\n",
    "y_pred = np.round(model_NN.predict(X_test_scale))\n",
    "print(\"A acurácia no conjunto de teste é\", accuracy_score(y_test, y_pred))\n",
    "print((y_pred.flatten() == y_test).mean())"
   ]
  },
  {
   "cell_type": "code",
   "execution_count": 111,
   "metadata": {},
   "outputs": [],
   "source": [
    "sample = {'lead_time': 142,\n",
    " 'arrival_date_week_number': 17,\n",
    " 'arrival_date_day_of_month': 22,\n",
    " 'stays_in_weekend_nights': 2,\n",
    " 'stays_in_week_nights': 3,\n",
    " 'adults': 2,\n",
    " 'babies': 0,\n",
    " 'is_repeated_guest': 0,\n",
    " 'previous_cancellations': 0,\n",
    " 'previous_bookings_not_canceled': 0,\n",
    " 'booking_changes': 0,\n",
    " 'days_in_waiting_list': 0,\n",
    " 'required_car_parking_spaces': 0,\n",
    " 'total_of_special_requests': 0,\n",
    " 'month': 1,\n",
    " 'day': 18,\n",
    " 'hotel_City Hotel': 1,\n",
    " 'meal_BB': 1,\n",
    " 'meal_HB': 0,\n",
    " 'meal_SC': 0,\n",
    " 'meal_Undefined': 0,\n",
    " 'reserved_room_type_A': 1,\n",
    " 'reserved_room_type_B': 0,\n",
    " 'reserved_room_type_C': 0,\n",
    " 'reserved_room_type_D': 0,\n",
    " 'reserved_room_type_E': 0,\n",
    " 'reserved_room_type_F': 0,\n",
    " 'reserved_room_type_G': 0,\n",
    " 'reserved_room_type_H': 0,\n",
    " 'distribution_channel_Corporate': 0,\n",
    " 'distribution_channel_Direct': 0,\n",
    " 'distribution_channel_GDS': 0,\n",
    " 'distribution_channel_TA/TO': 1,\n",
    " 'customer_type_Contract': 0,\n",
    " 'customer_type_Transient': 1,\n",
    " 'customer_type_Transient-Party': 0}\n",
    "new_data = pd.DataFrame([sample]).values"
   ]
  },
  {
   "cell_type": "code",
   "execution_count": 137,
   "metadata": {},
   "outputs": [],
   "source": [
    "def predict_cancellation(model, new_data):\n",
    "    # the output is not exactly one or zero, it should be rounded\n",
    "    predictions = np.round(model.predict(new_data)[0])\n",
    "\n",
    "    pred_to_label = {0: 'Not Cancelled', 1: 'Cancelled'}\n",
    "\n",
    "    # Make a list of predictions\n",
    "    data = []\n",
    "    for t, pred in zip(new_data, predictions):\n",
    "        data.append((pred, pred_to_label[pred]))\n",
    "\n",
    "    return data"
   ]
  },
  {
   "cell_type": "code",
   "execution_count": 115,
   "metadata": {},
   "outputs": [],
   "source": [
    "new_data_scaled= scaler.transform(new_data)"
   ]
  },
  {
   "cell_type": "code",
   "execution_count": 138,
   "metadata": {},
   "outputs": [
    {
     "name": "stdout",
     "output_type": "stream",
     "text": [
      "1/1 [==============================] - 0s 28ms/step\n",
      "[(1.0, 'Cancelled')]\n"
     ]
    }
   ],
   "source": [
    "if __name__ == \"__main__\":\n",
    "    predictions = predict_cancellation(model_NN, new_data_scaled)                        \n",
    "    print(predictions)"
   ]
  }
 ],
 "metadata": {
  "kernelspec": {
   "display_name": "Python 3.9.7 ('base')",
   "language": "python",
   "name": "python3"
  },
  "language_info": {
   "codemirror_mode": {
    "name": "ipython",
    "version": 3
   },
   "file_extension": ".py",
   "mimetype": "text/x-python",
   "name": "python",
   "nbconvert_exporter": "python",
   "pygments_lexer": "ipython3",
   "version": "3.9.7"
  },
  "orig_nbformat": 4,
  "vscode": {
   "interpreter": {
    "hash": "6f5583cf1d9466b5c27e75c89cc6b383bed5736d6b16c51c8074d8690011a952"
   }
  }
 },
 "nbformat": 4,
 "nbformat_minor": 2
}
